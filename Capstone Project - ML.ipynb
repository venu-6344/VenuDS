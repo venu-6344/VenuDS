{
 "cells": [
  {
   "cell_type": "markdown",
   "id": "7136960b",
   "metadata": {},
   "source": [
    "# Capstone Project - Wine quality prediction thru ML"
   ]
  },
  {
   "cell_type": "raw",
   "id": "187639d5",
   "metadata": {},
   "source": [
    " # Objective \n",
    "The main object is to predict the wine quality using machine learning algorithm thru python programming language.\n",
    "\n",
    "A dataset is considered and wine quality is analysed thru various parameters like fixed acidity, volatile acidity, alchohol etc., thru a suitable machine learning algorithm which helps to rate the wine quality on 1-10 scale.\n",
    "\n",
    "The output obtained would be checked for correctness and optimized. This will support wine expert evaluations to improve the production.\n",
    "\n",
    "Attributes :  Independent variables, features\n",
    "\n",
    "PH             -     \tTo measure ripeness\n",
    "Density\t       -        Density in gram per cm3\n",
    "Alcohol\t       -        Volume of alcohol In %\n",
    "Fixed Acidity  -     \tImpart sourness and resist microbial infection, measured in no. of grams of tartaric acid per dm3\n",
    "Volatile Acidity  -   \tNo. of grams of acetic acid per dm3 of wine\n",
    "Citric Acid    -    \tNo. of grams of citric acid per dm3 of wine\n",
    "Residual Sugar -    \tRemaining sugar after fermentation stops\n",
    "Chlorides \t   -        No. of grams of sodium chloride per dm3 of wine\n",
    "Free Sulfur dioxide\t-   No. of grams of free sulphites per dm3 of wine\n",
    "Total Sulfur dioxide - \tNo. of grams of total sulfite(free sulphite + bound)\n",
    "Sulphates      -    \tno. of grams of potassium sulphate per dm3 of wine\n",
    "\n",
    "Dependant variable/Target variable\n",
    "\n",
    "Quality\t       -        Target variable, 1-10 value\n",
    "\t\n",
    "\n",
    "\n"
   ]
  },
  {
   "cell_type": "code",
   "execution_count": 2,
   "id": "68df7a78",
   "metadata": {},
   "outputs": [],
   "source": [
    "# Import basic libraries\n",
    "\n",
    "import numpy as np\n",
    "import pandas as pd\n",
    "import matplotlib.pyplot as plt\n",
    "import seaborn as sns\n",
    "%matplotlib inline\n",
    "\n",
    "# import warnings to ignore unnecessary warnings \n",
    "import warnings\n",
    "warnings.filterwarnings('ignore')"
   ]
  },
  {
   "cell_type": "code",
   "execution_count": 3,
   "id": "b4717ee9",
   "metadata": {},
   "outputs": [
    {
     "ename": "FileNotFoundError",
     "evalue": "[Errno 2] No such file or directory: 'C:\\\\Users\\\\venua/Downloads/QualityPrediction.csv'",
     "output_type": "error",
     "traceback": [
      "\u001b[1;31m---------------------------------------------------------------------------\u001b[0m",
      "\u001b[1;31mFileNotFoundError\u001b[0m                         Traceback (most recent call last)",
      "Cell \u001b[1;32mIn[3], line 3\u001b[0m\n\u001b[0;32m      1\u001b[0m \u001b[38;5;66;03m# Read the dataset given.\u001b[39;00m\n\u001b[1;32m----> 3\u001b[0m wine_q \u001b[38;5;241m=\u001b[39m pd\u001b[38;5;241m.\u001b[39mread_csv(\u001b[38;5;124m'\u001b[39m\u001b[38;5;124m~/Downloads/QualityPrediction.csv\u001b[39m\u001b[38;5;124m'\u001b[39m)\n\u001b[0;32m      4\u001b[0m wine_q\n",
      "File \u001b[1;32m~\\anaconda3\\Lib\\site-packages\\pandas\\util\\_decorators.py:211\u001b[0m, in \u001b[0;36mdeprecate_kwarg.<locals>._deprecate_kwarg.<locals>.wrapper\u001b[1;34m(*args, **kwargs)\u001b[0m\n\u001b[0;32m    209\u001b[0m     \u001b[38;5;28;01melse\u001b[39;00m:\n\u001b[0;32m    210\u001b[0m         kwargs[new_arg_name] \u001b[38;5;241m=\u001b[39m new_arg_value\n\u001b[1;32m--> 211\u001b[0m \u001b[38;5;28;01mreturn\u001b[39;00m func(\u001b[38;5;241m*\u001b[39margs, \u001b[38;5;241m*\u001b[39m\u001b[38;5;241m*\u001b[39mkwargs)\n",
      "File \u001b[1;32m~\\anaconda3\\Lib\\site-packages\\pandas\\util\\_decorators.py:331\u001b[0m, in \u001b[0;36mdeprecate_nonkeyword_arguments.<locals>.decorate.<locals>.wrapper\u001b[1;34m(*args, **kwargs)\u001b[0m\n\u001b[0;32m    325\u001b[0m \u001b[38;5;28;01mif\u001b[39;00m \u001b[38;5;28mlen\u001b[39m(args) \u001b[38;5;241m>\u001b[39m num_allow_args:\n\u001b[0;32m    326\u001b[0m     warnings\u001b[38;5;241m.\u001b[39mwarn(\n\u001b[0;32m    327\u001b[0m         msg\u001b[38;5;241m.\u001b[39mformat(arguments\u001b[38;5;241m=\u001b[39m_format_argument_list(allow_args)),\n\u001b[0;32m    328\u001b[0m         \u001b[38;5;167;01mFutureWarning\u001b[39;00m,\n\u001b[0;32m    329\u001b[0m         stacklevel\u001b[38;5;241m=\u001b[39mfind_stack_level(),\n\u001b[0;32m    330\u001b[0m     )\n\u001b[1;32m--> 331\u001b[0m \u001b[38;5;28;01mreturn\u001b[39;00m func(\u001b[38;5;241m*\u001b[39margs, \u001b[38;5;241m*\u001b[39m\u001b[38;5;241m*\u001b[39mkwargs)\n",
      "File \u001b[1;32m~\\anaconda3\\Lib\\site-packages\\pandas\\io\\parsers\\readers.py:950\u001b[0m, in \u001b[0;36mread_csv\u001b[1;34m(filepath_or_buffer, sep, delimiter, header, names, index_col, usecols, squeeze, prefix, mangle_dupe_cols, dtype, engine, converters, true_values, false_values, skipinitialspace, skiprows, skipfooter, nrows, na_values, keep_default_na, na_filter, verbose, skip_blank_lines, parse_dates, infer_datetime_format, keep_date_col, date_parser, dayfirst, cache_dates, iterator, chunksize, compression, thousands, decimal, lineterminator, quotechar, quoting, doublequote, escapechar, comment, encoding, encoding_errors, dialect, error_bad_lines, warn_bad_lines, on_bad_lines, delim_whitespace, low_memory, memory_map, float_precision, storage_options)\u001b[0m\n\u001b[0;32m    935\u001b[0m kwds_defaults \u001b[38;5;241m=\u001b[39m _refine_defaults_read(\n\u001b[0;32m    936\u001b[0m     dialect,\n\u001b[0;32m    937\u001b[0m     delimiter,\n\u001b[1;32m   (...)\u001b[0m\n\u001b[0;32m    946\u001b[0m     defaults\u001b[38;5;241m=\u001b[39m{\u001b[38;5;124m\"\u001b[39m\u001b[38;5;124mdelimiter\u001b[39m\u001b[38;5;124m\"\u001b[39m: \u001b[38;5;124m\"\u001b[39m\u001b[38;5;124m,\u001b[39m\u001b[38;5;124m\"\u001b[39m},\n\u001b[0;32m    947\u001b[0m )\n\u001b[0;32m    948\u001b[0m kwds\u001b[38;5;241m.\u001b[39mupdate(kwds_defaults)\n\u001b[1;32m--> 950\u001b[0m \u001b[38;5;28;01mreturn\u001b[39;00m _read(filepath_or_buffer, kwds)\n",
      "File \u001b[1;32m~\\anaconda3\\Lib\\site-packages\\pandas\\io\\parsers\\readers.py:605\u001b[0m, in \u001b[0;36m_read\u001b[1;34m(filepath_or_buffer, kwds)\u001b[0m\n\u001b[0;32m    602\u001b[0m _validate_names(kwds\u001b[38;5;241m.\u001b[39mget(\u001b[38;5;124m\"\u001b[39m\u001b[38;5;124mnames\u001b[39m\u001b[38;5;124m\"\u001b[39m, \u001b[38;5;28;01mNone\u001b[39;00m))\n\u001b[0;32m    604\u001b[0m \u001b[38;5;66;03m# Create the parser.\u001b[39;00m\n\u001b[1;32m--> 605\u001b[0m parser \u001b[38;5;241m=\u001b[39m TextFileReader(filepath_or_buffer, \u001b[38;5;241m*\u001b[39m\u001b[38;5;241m*\u001b[39mkwds)\n\u001b[0;32m    607\u001b[0m \u001b[38;5;28;01mif\u001b[39;00m chunksize \u001b[38;5;129;01mor\u001b[39;00m iterator:\n\u001b[0;32m    608\u001b[0m     \u001b[38;5;28;01mreturn\u001b[39;00m parser\n",
      "File \u001b[1;32m~\\anaconda3\\Lib\\site-packages\\pandas\\io\\parsers\\readers.py:1442\u001b[0m, in \u001b[0;36mTextFileReader.__init__\u001b[1;34m(self, f, engine, **kwds)\u001b[0m\n\u001b[0;32m   1439\u001b[0m     \u001b[38;5;28mself\u001b[39m\u001b[38;5;241m.\u001b[39moptions[\u001b[38;5;124m\"\u001b[39m\u001b[38;5;124mhas_index_names\u001b[39m\u001b[38;5;124m\"\u001b[39m] \u001b[38;5;241m=\u001b[39m kwds[\u001b[38;5;124m\"\u001b[39m\u001b[38;5;124mhas_index_names\u001b[39m\u001b[38;5;124m\"\u001b[39m]\n\u001b[0;32m   1441\u001b[0m \u001b[38;5;28mself\u001b[39m\u001b[38;5;241m.\u001b[39mhandles: IOHandles \u001b[38;5;241m|\u001b[39m \u001b[38;5;28;01mNone\u001b[39;00m \u001b[38;5;241m=\u001b[39m \u001b[38;5;28;01mNone\u001b[39;00m\n\u001b[1;32m-> 1442\u001b[0m \u001b[38;5;28mself\u001b[39m\u001b[38;5;241m.\u001b[39m_engine \u001b[38;5;241m=\u001b[39m \u001b[38;5;28mself\u001b[39m\u001b[38;5;241m.\u001b[39m_make_engine(f, \u001b[38;5;28mself\u001b[39m\u001b[38;5;241m.\u001b[39mengine)\n",
      "File \u001b[1;32m~\\anaconda3\\Lib\\site-packages\\pandas\\io\\parsers\\readers.py:1735\u001b[0m, in \u001b[0;36mTextFileReader._make_engine\u001b[1;34m(self, f, engine)\u001b[0m\n\u001b[0;32m   1733\u001b[0m     \u001b[38;5;28;01mif\u001b[39;00m \u001b[38;5;124m\"\u001b[39m\u001b[38;5;124mb\u001b[39m\u001b[38;5;124m\"\u001b[39m \u001b[38;5;129;01mnot\u001b[39;00m \u001b[38;5;129;01min\u001b[39;00m mode:\n\u001b[0;32m   1734\u001b[0m         mode \u001b[38;5;241m+\u001b[39m\u001b[38;5;241m=\u001b[39m \u001b[38;5;124m\"\u001b[39m\u001b[38;5;124mb\u001b[39m\u001b[38;5;124m\"\u001b[39m\n\u001b[1;32m-> 1735\u001b[0m \u001b[38;5;28mself\u001b[39m\u001b[38;5;241m.\u001b[39mhandles \u001b[38;5;241m=\u001b[39m get_handle(\n\u001b[0;32m   1736\u001b[0m     f,\n\u001b[0;32m   1737\u001b[0m     mode,\n\u001b[0;32m   1738\u001b[0m     encoding\u001b[38;5;241m=\u001b[39m\u001b[38;5;28mself\u001b[39m\u001b[38;5;241m.\u001b[39moptions\u001b[38;5;241m.\u001b[39mget(\u001b[38;5;124m\"\u001b[39m\u001b[38;5;124mencoding\u001b[39m\u001b[38;5;124m\"\u001b[39m, \u001b[38;5;28;01mNone\u001b[39;00m),\n\u001b[0;32m   1739\u001b[0m     compression\u001b[38;5;241m=\u001b[39m\u001b[38;5;28mself\u001b[39m\u001b[38;5;241m.\u001b[39moptions\u001b[38;5;241m.\u001b[39mget(\u001b[38;5;124m\"\u001b[39m\u001b[38;5;124mcompression\u001b[39m\u001b[38;5;124m\"\u001b[39m, \u001b[38;5;28;01mNone\u001b[39;00m),\n\u001b[0;32m   1740\u001b[0m     memory_map\u001b[38;5;241m=\u001b[39m\u001b[38;5;28mself\u001b[39m\u001b[38;5;241m.\u001b[39moptions\u001b[38;5;241m.\u001b[39mget(\u001b[38;5;124m\"\u001b[39m\u001b[38;5;124mmemory_map\u001b[39m\u001b[38;5;124m\"\u001b[39m, \u001b[38;5;28;01mFalse\u001b[39;00m),\n\u001b[0;32m   1741\u001b[0m     is_text\u001b[38;5;241m=\u001b[39mis_text,\n\u001b[0;32m   1742\u001b[0m     errors\u001b[38;5;241m=\u001b[39m\u001b[38;5;28mself\u001b[39m\u001b[38;5;241m.\u001b[39moptions\u001b[38;5;241m.\u001b[39mget(\u001b[38;5;124m\"\u001b[39m\u001b[38;5;124mencoding_errors\u001b[39m\u001b[38;5;124m\"\u001b[39m, \u001b[38;5;124m\"\u001b[39m\u001b[38;5;124mstrict\u001b[39m\u001b[38;5;124m\"\u001b[39m),\n\u001b[0;32m   1743\u001b[0m     storage_options\u001b[38;5;241m=\u001b[39m\u001b[38;5;28mself\u001b[39m\u001b[38;5;241m.\u001b[39moptions\u001b[38;5;241m.\u001b[39mget(\u001b[38;5;124m\"\u001b[39m\u001b[38;5;124mstorage_options\u001b[39m\u001b[38;5;124m\"\u001b[39m, \u001b[38;5;28;01mNone\u001b[39;00m),\n\u001b[0;32m   1744\u001b[0m )\n\u001b[0;32m   1745\u001b[0m \u001b[38;5;28;01massert\u001b[39;00m \u001b[38;5;28mself\u001b[39m\u001b[38;5;241m.\u001b[39mhandles \u001b[38;5;129;01mis\u001b[39;00m \u001b[38;5;129;01mnot\u001b[39;00m \u001b[38;5;28;01mNone\u001b[39;00m\n\u001b[0;32m   1746\u001b[0m f \u001b[38;5;241m=\u001b[39m \u001b[38;5;28mself\u001b[39m\u001b[38;5;241m.\u001b[39mhandles\u001b[38;5;241m.\u001b[39mhandle\n",
      "File \u001b[1;32m~\\anaconda3\\Lib\\site-packages\\pandas\\io\\common.py:856\u001b[0m, in \u001b[0;36mget_handle\u001b[1;34m(path_or_buf, mode, encoding, compression, memory_map, is_text, errors, storage_options)\u001b[0m\n\u001b[0;32m    851\u001b[0m \u001b[38;5;28;01melif\u001b[39;00m \u001b[38;5;28misinstance\u001b[39m(handle, \u001b[38;5;28mstr\u001b[39m):\n\u001b[0;32m    852\u001b[0m     \u001b[38;5;66;03m# Check whether the filename is to be opened in binary mode.\u001b[39;00m\n\u001b[0;32m    853\u001b[0m     \u001b[38;5;66;03m# Binary mode does not support 'encoding' and 'newline'.\u001b[39;00m\n\u001b[0;32m    854\u001b[0m     \u001b[38;5;28;01mif\u001b[39;00m ioargs\u001b[38;5;241m.\u001b[39mencoding \u001b[38;5;129;01mand\u001b[39;00m \u001b[38;5;124m\"\u001b[39m\u001b[38;5;124mb\u001b[39m\u001b[38;5;124m\"\u001b[39m \u001b[38;5;129;01mnot\u001b[39;00m \u001b[38;5;129;01min\u001b[39;00m ioargs\u001b[38;5;241m.\u001b[39mmode:\n\u001b[0;32m    855\u001b[0m         \u001b[38;5;66;03m# Encoding\u001b[39;00m\n\u001b[1;32m--> 856\u001b[0m         handle \u001b[38;5;241m=\u001b[39m \u001b[38;5;28mopen\u001b[39m(\n\u001b[0;32m    857\u001b[0m             handle,\n\u001b[0;32m    858\u001b[0m             ioargs\u001b[38;5;241m.\u001b[39mmode,\n\u001b[0;32m    859\u001b[0m             encoding\u001b[38;5;241m=\u001b[39mioargs\u001b[38;5;241m.\u001b[39mencoding,\n\u001b[0;32m    860\u001b[0m             errors\u001b[38;5;241m=\u001b[39merrors,\n\u001b[0;32m    861\u001b[0m             newline\u001b[38;5;241m=\u001b[39m\u001b[38;5;124m\"\u001b[39m\u001b[38;5;124m\"\u001b[39m,\n\u001b[0;32m    862\u001b[0m         )\n\u001b[0;32m    863\u001b[0m     \u001b[38;5;28;01melse\u001b[39;00m:\n\u001b[0;32m    864\u001b[0m         \u001b[38;5;66;03m# Binary mode\u001b[39;00m\n\u001b[0;32m    865\u001b[0m         handle \u001b[38;5;241m=\u001b[39m \u001b[38;5;28mopen\u001b[39m(handle, ioargs\u001b[38;5;241m.\u001b[39mmode)\n",
      "\u001b[1;31mFileNotFoundError\u001b[0m: [Errno 2] No such file or directory: 'C:\\\\Users\\\\venua/Downloads/QualityPrediction.csv'"
     ]
    }
   ],
   "source": [
    "# Read the dataset given.\n",
    "\n",
    "wine_q = pd.read_csv('~/Downloads/Learnbay Datascience/Datasets/QualityPrediction.csv')\n",
    "wine_q"
   ]
  },
  {
   "cell_type": "code",
   "execution_count": null,
   "id": "7fded783",
   "metadata": {},
   "outputs": [],
   "source": [
    "wine_q.shape"
   ]
  },
  {
   "cell_type": "code",
   "execution_count": null,
   "id": "d88e5638",
   "metadata": {},
   "outputs": [],
   "source": [
    "wine_q.info()\n",
    "\n",
    "# There are no null values in any of the datasets hence no need to to cleaning"
   ]
  },
  {
   "cell_type": "code",
   "execution_count": null,
   "id": "22f1d9bd",
   "metadata": {},
   "outputs": [],
   "source": [
    "wine_q.isnull().sum()"
   ]
  },
  {
   "cell_type": "code",
   "execution_count": null,
   "id": "715bcdfc",
   "metadata": {},
   "outputs": [],
   "source": [
    "wine_q.describe()"
   ]
  },
  {
   "cell_type": "code",
   "execution_count": null,
   "id": "48295a02",
   "metadata": {},
   "outputs": [],
   "source": [
    "wine_q.corr()"
   ]
  },
  {
   "cell_type": "code",
   "execution_count": null,
   "id": "d7491b90",
   "metadata": {},
   "outputs": [],
   "source": [
    "plt.figure(figsize = (16,10))\n",
    "sns.heatmap(data = wine_q.corr(), cmap = 'Reds', annot = True)\n",
    "\n",
    "# finding slight correlation between fixed acidity and citric acid (0.67) and quality and alcohol (0.48)"
   ]
  },
  {
   "cell_type": "code",
   "execution_count": null,
   "id": "2f991765",
   "metadata": {},
   "outputs": [],
   "source": [
    "# help(sns.heatmap(data = wine_q.corr()))\n",
    "\n",
    "\n",
    "\n",
    "\n"
   ]
  },
  {
   "cell_type": "markdown",
   "id": "06353ad6",
   "metadata": {},
   "source": [
    "# Target Analysis"
   ]
  },
  {
   "cell_type": "code",
   "execution_count": null,
   "id": "94025b95",
   "metadata": {},
   "outputs": [],
   "source": [
    "wine_q['quality'].value_counts(normalize = True)\n",
    "\n",
    "# It is observed that quality 5 has highest 42% samples followed by 40% quality 6 and both are amounting to\n",
    "# 82% of total dataset"
   ]
  },
  {
   "cell_type": "code",
   "execution_count": null,
   "id": "7e42a6ef",
   "metadata": {},
   "outputs": [],
   "source": [
    "# plotting count plot for quality for better visualization\n",
    "sns.countplot(data = wine_q, x = 'quality')"
   ]
  },
  {
   "cell_type": "code",
   "execution_count": null,
   "id": "6ddafbaa",
   "metadata": {},
   "outputs": [],
   "source": [
    "#plot the Quality\n",
    "plt.figure(figsize = (16,6))\n",
    "sns.distplot(wine_q['quality'])\n",
    "plt.show()\n",
    "\n",
    "# below plot shows more sample in the quality range of 5 and 6 and very less in 7 and 8 which is very good quality"
   ]
  },
  {
   "cell_type": "code",
   "execution_count": null,
   "id": "a27c7678",
   "metadata": {},
   "outputs": [],
   "source": [
    "#Plotting the linear relationship between two sets of parameters quality vs alcohol and fixed acidity and citric acid \n",
    "plt.figure(figsize = (16,6))\n",
    "sns.regplot(x= 'quality', y = 'alcohol' , data = wine_q)\n",
    "plt.show()\n"
   ]
  },
  {
   "cell_type": "code",
   "execution_count": null,
   "id": "cb554442",
   "metadata": {},
   "outputs": [],
   "source": [
    "plt.figure(figsize = (16,6))\n",
    "sns.regplot(x= 'fixed acidity', y = 'citric acid' , data = wine_q)\n",
    "plt.show()"
   ]
  },
  {
   "cell_type": "code",
   "execution_count": null,
   "id": "2cf848fd",
   "metadata": {},
   "outputs": [],
   "source": [
    "wine_q.columns"
   ]
  },
  {
   "cell_type": "markdown",
   "id": "c6269984",
   "metadata": {},
   "source": [
    "# Univariate analysis of each feature"
   ]
  },
  {
   "cell_type": "code",
   "execution_count": null,
   "id": "271c3acf",
   "metadata": {},
   "outputs": [],
   "source": [
    "# Plot each feature to understand about each data\n",
    "plt.figure(figsize = (12,5))\n",
    "plt.subplot(1,2,1)\n",
    "sns.distplot(wine_q['fixed acidity'])\n",
    "plt.subplot(1,2,2)\n",
    "sns.boxplot(y = wine_q['fixed acidity'])\n",
    "plt.show()\n",
    "\n"
   ]
  },
  {
   "cell_type": "code",
   "execution_count": null,
   "id": "0530f5c0",
   "metadata": {},
   "outputs": [],
   "source": [
    "plt.figure(figsize = (12,5))\n",
    "plt.subplot(1,2,1)\n",
    "sns.distplot(wine_q['volatile acidity'])\n",
    "plt.subplot(1,2,2)\n",
    "sns.boxplot(y = wine_q['volatile acidity'])\n",
    "plt.show()\n",
    "\n",
    "# outliers are available on positive side"
   ]
  },
  {
   "cell_type": "code",
   "execution_count": null,
   "id": "f1c64fb8",
   "metadata": {},
   "outputs": [],
   "source": [
    "plt.figure(figsize = (12,5))\n",
    "plt.subplot(1,2,1)\n",
    "sns.distplot(wine_q['citric acid'])\n",
    "plt.subplot(1,2,2)\n",
    "sns.boxplot(y = wine_q['citric acid'])\n",
    "plt.show()"
   ]
  },
  {
   "cell_type": "code",
   "execution_count": null,
   "id": "e1e2d9c9",
   "metadata": {},
   "outputs": [],
   "source": [
    "plt.figure(figsize = (12,5))\n",
    "plt.subplot(1,2,1)\n",
    "sns.distplot(wine_q['residual sugar'])\n",
    "plt.subplot(1,2,2)\n",
    "sns.boxplot(y = wine_q['residual sugar'])\n",
    "plt.show()\n",
    "\n",
    "# this feature has very high number of outliers from value 4 and above."
   ]
  },
  {
   "cell_type": "code",
   "execution_count": null,
   "id": "b4c749c4",
   "metadata": {},
   "outputs": [],
   "source": [
    "plt.figure(figsize = (12,5))\n",
    "plt.subplot(1,2,1)\n",
    "sns.distplot(wine_q['chlorides'])\n",
    "plt.subplot(1,2,2)\n",
    "sns.boxplot(y = wine_q['chlorides'])\n",
    "plt.show()"
   ]
  },
  {
   "cell_type": "code",
   "execution_count": null,
   "id": "33db6f6b",
   "metadata": {},
   "outputs": [],
   "source": [
    "plt.figure(figsize = (12,5))\n",
    "plt.subplot(1,2,1)\n",
    "sns.distplot(wine_q['free sulfur dioxide'])\n",
    "plt.subplot(1,2,2)\n",
    "sns.boxplot(y = wine_q['free sulfur dioxide'])\n",
    "plt.show()"
   ]
  },
  {
   "cell_type": "code",
   "execution_count": null,
   "id": "26bdca60",
   "metadata": {},
   "outputs": [],
   "source": [
    "plt.figure(figsize = (12,5))\n",
    "plt.subplot(1,2,1)\n",
    "sns.distplot(wine_q['total sulfur dioxide'])\n",
    "plt.subplot(1,2,2)\n",
    "sns.boxplot(y = wine_q['total sulfur dioxide'])\n",
    "plt.show()"
   ]
  },
  {
   "cell_type": "code",
   "execution_count": null,
   "id": "38e845f6",
   "metadata": {},
   "outputs": [],
   "source": [
    "plt.figure(figsize = (12,5))\n",
    "plt.subplot(1,2,1)\n",
    "sns.distplot(wine_q['density'])\n",
    "plt.subplot(1,2,2)\n",
    "sns.boxplot(y = wine_q['density'])\n",
    "plt.show()"
   ]
  },
  {
   "cell_type": "code",
   "execution_count": null,
   "id": "b024e5e6",
   "metadata": {},
   "outputs": [],
   "source": [
    "plt.figure(figsize = (12,5))\n",
    "plt.subplot(1,2,1)\n",
    "sns.distplot(wine_q['pH'])\n",
    "plt.subplot(1,2,2)\n",
    "sns.boxplot(y = wine_q['pH'])\n",
    "plt.show()"
   ]
  },
  {
   "cell_type": "code",
   "execution_count": null,
   "id": "b318d969",
   "metadata": {},
   "outputs": [],
   "source": [
    "plt.figure(figsize = (12,5))\n",
    "plt.subplot(1,2,1)\n",
    "sns.distplot(wine_q['sulphates'])\n",
    "plt.subplot(1,2,2)\n",
    "sns.boxplot(y = wine_q['sulphates'])\n",
    "plt.show()"
   ]
  },
  {
   "cell_type": "code",
   "execution_count": null,
   "id": "e766ef25",
   "metadata": {},
   "outputs": [],
   "source": [
    "plt.figure(figsize = (12,5))\n",
    "plt.subplot(1,2,1)\n",
    "sns.distplot(wine_q['alcohol'])\n",
    "plt.subplot(1,2,2)\n",
    "sns.boxplot(y = wine_q['alcohol'])\n",
    "plt.show()"
   ]
  },
  {
   "cell_type": "markdown",
   "id": "a1cb2af4",
   "metadata": {},
   "source": [
    "# Outlier evaluation in IQR and Z- score methods"
   ]
  },
  {
   "cell_type": "code",
   "execution_count": null,
   "id": "495c1cf3",
   "metadata": {},
   "outputs": [],
   "source": [
    "##IQR method of detecting outliers\n",
    "\n",
    "def iqr_func(data):\n",
    "    Q1 = np.percentile(data, 25, interpolation = 'midpoint') \n",
    "    Q3 = np.percentile(data, 75, interpolation = 'midpoint')\n",
    "    IQR=Q3-Q1\n",
    "    lo=Q1-1.5*IQR\n",
    "    uo=Q3+1.5*IQR\n",
    "    outlier=[]\n",
    "    for x in data:\n",
    "        if ((x> uo) or (x<lo)):\n",
    "            outlier.append(x)\n",
    "    return outlier        \n",
    "    \n",
    "    \n",
    "print('Outlier in the fixed acidity feature are : \\n', iqr_func(wine_q['fixed acidity']))\n",
    "print('Outlier in the volatile acidity feature are : \\n', iqr_func(wine_q['volatile acidity']))\n",
    "print('Outlier in the citric acid feature are : \\n',iqr_func(wine_q['citric acid']))\n",
    "print('Outlier in the residual sugar feature are : \\n',iqr_func(wine_q['residual sugar']))\n",
    "print('Outlier in the chlorides feature are : \\n',iqr_func(wine_q['chlorides']))\n",
    "print('Outlier in the free sulfur dioxide feature are : \\n',iqr_func(wine_q['free sulfur dioxide']))\n",
    "print('Outlier in the total sulfur dioxide feature are : \\n',iqr_func(wine_q['total sulfur dioxide']))\n",
    "print('Outlier in the density feature are : \\n',iqr_func(wine_q['density']))\n",
    "print('Outlier in the pH feature are : \\n',iqr_func(wine_q['pH']))\n",
    "print('Outlier in the sulphates feature are : \\n',iqr_func(wine_q['sulphates']))\n",
    "print('Outlier in the alcohol feature are : \\n',iqr_func(wine_q['alcohol']))"
   ]
  },
  {
   "cell_type": "code",
   "execution_count": null,
   "id": "9278899a",
   "metadata": {},
   "outputs": [],
   "source": [
    "## Z score method of detecting outliers\n",
    "\n",
    "def norm_func(data):\n",
    "    outlier=[]\n",
    "    mean=np.mean(data)\n",
    "    std=np.std(data)\n",
    "    for x in data:\n",
    "        z=(x-mean)/std\n",
    "        if z>3 or z<-3:\n",
    "            outlier.append(x)\n",
    "    return outlier\n",
    "    \n",
    "    \n",
    "\n",
    "print('Outlier in the fixed acidity feature are : ', norm_func(wine_q['fixed acidity']))\n",
    "print('Outlier in the volatile acidity feature are : ', norm_func(wine_q['volatile acidity']))\n",
    "print('Outlier in the citric acid feature are : ', norm_func(wine_q['citric acid']))\n",
    "print('Outlier in the residual sugar feature are : ', norm_func(wine_q['residual sugar']))\n",
    "print('Outlier in the chlorides feature are : ', norm_func(wine_q['chlorides']))\n",
    "print('Outlier in the free sulfur dioxide feature are : ', norm_func(wine_q['free sulfur dioxide']))\n",
    "print('Outlier in the total sulfur dioxide feature are : ', norm_func(wine_q['total sulfur dioxide']))\n",
    "print('Outlier in the density feature are : ', norm_func(wine_q['density']))\n",
    "print('Outlier in the pH feature are : ', norm_func(wine_q['pH']))\n",
    "print('Outlier in the sulphates feature are : ', norm_func(wine_q['sulphates']))\n",
    "print('Outlier in the alcohol feature are : ', norm_func(wine_q['alcohol']))"
   ]
  },
  {
   "cell_type": "raw",
   "id": "204b52ab",
   "metadata": {},
   "source": [
    "#Observations of Univariate Analysis :\n",
    "# we can find lot of outliers in the feature which are to be treated. Used both IQR and\n",
    "# Z score methods to evaluate outliers.  Outliers found thru Z score method are much lesser than found in IQR method.\n",
    "# As per my understanding of dataset Redidual sugar and Total surfur dioxide features doesn't contribute towards quality \n",
    "# and has no effect on the quality. Hence they may be dropped from independent features in setting the model "
   ]
  },
  {
   "cell_type": "code",
   "execution_count": null,
   "id": "6dbe9fdb",
   "metadata": {},
   "outputs": [],
   "source": [
    "# plt.figure(figsize = (12,8))\n",
    "\n",
    "sns.pairplot(wine_q, diag_kind = 'kde', kind = 'reg')"
   ]
  },
  {
   "cell_type": "markdown",
   "id": "38acbef5",
   "metadata": {},
   "source": [
    "# Bi variate analysis of quality and each feature"
   ]
  },
  {
   "cell_type": "code",
   "execution_count": null,
   "id": "546874a4",
   "metadata": {},
   "outputs": [],
   "source": [
    "plt.figure(figsize = (10,7))\n",
    "sns.barplot(x = 'quality', y = 'fixed acidity', data = wine_q)"
   ]
  },
  {
   "cell_type": "code",
   "execution_count": null,
   "id": "fd284cb9",
   "metadata": {},
   "outputs": [],
   "source": [
    "plt.figure(figsize = (10,7))\n",
    "sns.barplot(x = 'quality', y = 'volatile acidity', data = wine_q)"
   ]
  },
  {
   "cell_type": "code",
   "execution_count": null,
   "id": "0428a42d",
   "metadata": {},
   "outputs": [],
   "source": [
    "plt.figure(figsize = (10,7))\n",
    "sns.barplot(x = 'quality', y = 'citric acid', data = wine_q)"
   ]
  },
  {
   "cell_type": "code",
   "execution_count": null,
   "id": "5056b947",
   "metadata": {},
   "outputs": [],
   "source": [
    "plt.figure(figsize = (10,7))\n",
    "sns.barplot(x = 'quality', y = 'residual sugar', data = wine_q)"
   ]
  },
  {
   "cell_type": "code",
   "execution_count": null,
   "id": "6916cb58",
   "metadata": {},
   "outputs": [],
   "source": [
    "plt.figure(figsize = (10,7))\n",
    "sns.barplot(x = 'quality', y = 'chlorides', data = wine_q)"
   ]
  },
  {
   "cell_type": "code",
   "execution_count": null,
   "id": "54cae700",
   "metadata": {},
   "outputs": [],
   "source": [
    "plt.figure(figsize = (10,7))\n",
    "sns.barplot(x = 'quality', y = 'free sulfur dioxide', data = wine_q)"
   ]
  },
  {
   "cell_type": "code",
   "execution_count": null,
   "id": "1ceb5d59",
   "metadata": {},
   "outputs": [],
   "source": [
    "plt.figure(figsize = (10,7))\n",
    "sns.barplot(x = 'quality', y = 'total sulfur dioxide', data = wine_q)"
   ]
  },
  {
   "cell_type": "code",
   "execution_count": null,
   "id": "0345984b",
   "metadata": {},
   "outputs": [],
   "source": [
    "plt.figure(figsize = (10,7))\n",
    "sns.barplot(x = 'quality', y = 'density', data = wine_q)"
   ]
  },
  {
   "cell_type": "code",
   "execution_count": null,
   "id": "d462d169",
   "metadata": {},
   "outputs": [],
   "source": [
    "plt.figure(figsize = (10,7))\n",
    "sns.barplot(x = 'quality', y = 'pH', data = wine_q)"
   ]
  },
  {
   "cell_type": "code",
   "execution_count": null,
   "id": "c2ad4d56",
   "metadata": {},
   "outputs": [],
   "source": [
    "plt.figure(figsize = (10,7))\n",
    "sns.barplot(x = 'quality', y = 'sulphates', data = wine_q)"
   ]
  },
  {
   "cell_type": "code",
   "execution_count": null,
   "id": "c42c8b7e",
   "metadata": {},
   "outputs": [],
   "source": [
    "plt.figure(figsize = (10,7))\n",
    "sns.barplot(x = 'quality', y = 'alcohol', data = wine_q)"
   ]
  },
  {
   "cell_type": "raw",
   "id": "1204490e",
   "metadata": {},
   "source": [
    "OBSERVATIONS OF BIVARIATE ANALYSIS :\n",
    "1. Fixed acidity has no impact on quality\n",
    "2. Sulphates, alchohol, citric acid have direct proportional relation with quality i.e., more the value of these parameters high quality of wine.\n",
    "3. volatile acidity, chlorides have inverse relation with quality i.e., less the values of these parameters high quality of wine.\n",
    "4. Error bars observed in chlorides, residual sugar, free and total sulphur dioxide.  These may be the cause for low quality"
   ]
  },
  {
   "cell_type": "markdown",
   "id": "2e88b84c",
   "metadata": {},
   "source": [
    "# Testing model with Logistric Regression model"
   ]
  },
  {
   "cell_type": "code",
   "execution_count": null,
   "id": "155faff3",
   "metadata": {},
   "outputs": [],
   "source": [
    "# The output/dependent variable 'quality' is categorical with 5 categories from 3 to 8. \n",
    "# We need to divide these categories in two classes 1, 0 so that logistic classification model can be applied.\n",
    "\n",
    "y = wine_q['quality'].apply(lambda y: 1 if y >= 7 else 0)\n",
    "y"
   ]
  },
  {
   "cell_type": "code",
   "execution_count": null,
   "id": "941c16d8",
   "metadata": {},
   "outputs": [],
   "source": [
    "# declare x \n",
    "x = wine_q.drop('quality', axis = 1)"
   ]
  },
  {
   "cell_type": "code",
   "execution_count": null,
   "id": "97f26059",
   "metadata": {},
   "outputs": [],
   "source": [
    "print(x.shape)\n",
    "print(y.shape)"
   ]
  },
  {
   "cell_type": "code",
   "execution_count": null,
   "id": "07a55e0e",
   "metadata": {},
   "outputs": [],
   "source": [
    "# Split the dataset in to Test, Train \n",
    "from sklearn.model_selection import train_test_split, GridSearchCV\n",
    "\n",
    "xTrain, xTest, yTrain, yTest = train_test_split(x, y, test_size = 0.2, random_state = 5)"
   ]
  },
  {
   "cell_type": "code",
   "execution_count": null,
   "id": "459329f5",
   "metadata": {},
   "outputs": [],
   "source": [
    "# All the features have values in various ranges hence we need to apply scaling to bring them to comparable values.  \n",
    "# Hence applying StandardScaler to do so\n",
    "from sklearn.preprocessing import StandardScaler\n",
    "\n",
    "ss = StandardScaler()\n",
    "xTrain = ss.fit_transform(xTrain)\n",
    "xTest = ss.transform(xTest)\n",
    "    \n"
   ]
  },
  {
   "cell_type": "code",
   "execution_count": null,
   "id": "3b99596f",
   "metadata": {},
   "outputs": [],
   "source": [
    "# instantiate the logistic Regression model and fit the dataset in to the model\n",
    "from sklearn.linear_model import LogisticRegression\n",
    "from sklearn.ensemble import RandomForestClassifier\n",
    "from sklearn.svm import SVC\n",
    "\n",
    "# Instantiating the model\n",
    "lr = LogisticRegression()\n",
    "\n",
    "# fit the model to the dataset\n",
    "lr.fit(xTrain, yTrain)\n",
    "\n",
    "# predict the outcome\n",
    "y_pred = lr.predict(xTest)\n",
    "# y_pred =  np.asarray(y_pred).reshape(1,-1)\n",
    "# yTest = np.asarray(yTest).reshape(1,-1)\n",
    "y_pred"
   ]
  },
  {
   "cell_type": "code",
   "execution_count": null,
   "id": "f10f151f",
   "metadata": {},
   "outputs": [],
   "source": [
    "# check the performance metrics\n",
    "from sklearn.metrics import accuracy_score, classification_report, confusion_matrix, plot_confusion_matrix, auc, roc_curve"
   ]
  },
  {
   "cell_type": "code",
   "execution_count": null,
   "id": "382234a0",
   "metadata": {},
   "outputs": [],
   "source": [
    "print(accuracy_score(yTest, y_pred))"
   ]
  },
  {
   "cell_type": "code",
   "execution_count": null,
   "id": "c2bc8716",
   "metadata": {},
   "outputs": [],
   "source": [
    "print(classification_report(yTest, y_pred))"
   ]
  },
  {
   "cell_type": "code",
   "execution_count": null,
   "id": "afbdb8ab",
   "metadata": {},
   "outputs": [],
   "source": [
    "print(confusion_matrix(yTest, y_pred))"
   ]
  },
  {
   "cell_type": "code",
   "execution_count": null,
   "id": "1942fea0",
   "metadata": {},
   "outputs": [],
   "source": [
    "lr.get_params"
   ]
  },
  {
   "cell_type": "markdown",
   "id": "3af5b295",
   "metadata": {},
   "source": [
    "# Hyper parameter tuning for improvement of Accuracy"
   ]
  },
  {
   "cell_type": "code",
   "execution_count": null,
   "id": "d16ccc51",
   "metadata": {},
   "outputs": [],
   "source": [
    "# As the accuracy score is low need to improve with the help of hyperparamters tuning\n",
    "\n",
    "param_dict = [{'penalty':['l1', 'l2', 'elasticnet'],\n",
    "              'C':np.logspace(-4,4,20),\n",
    "              'solver':['lbfgs', 'newton-cg', 'liblinear', 'sag', 'saga'],\n",
    "              'max_iter':[3, 5, 10, 20, 50, 100, 1000, 10000, 30000]}]\n"
   ]
  },
  {
   "cell_type": "code",
   "execution_count": null,
   "id": "60d212f4",
   "metadata": {},
   "outputs": [],
   "source": [
    "gsc = GridSearchCV(lr, param_grid = param_dict, scoring = 'accuracy', cv = 10, verbose = True, n_jobs = -1)\n",
    "tuned_model = gsc.fit(xTrain, yTrain)"
   ]
  },
  {
   "cell_type": "code",
   "execution_count": null,
   "id": "9fc7e612",
   "metadata": {},
   "outputs": [],
   "source": [
    "tuned_model.best_params_"
   ]
  },
  {
   "cell_type": "code",
   "execution_count": null,
   "id": "b072e464",
   "metadata": {},
   "outputs": [],
   "source": [
    "tuned_model.best_score_"
   ]
  },
  {
   "cell_type": "code",
   "execution_count": null,
   "id": "abece11e",
   "metadata": {},
   "outputs": [],
   "source": [
    "lr_finetuned = lr.set_params(C = 0.08858667904100823, max_iter = 10, penalty = 'l2', solver = 'lbfgs', random_state = 10)\n",
    "                   "
   ]
  },
  {
   "cell_type": "code",
   "execution_count": null,
   "id": "3025d903",
   "metadata": {},
   "outputs": [],
   "source": [
    "lr_final = lr_finetuned.fit(xTrain, yTrain)\n",
    "y_pred_final = lr_final.predict(xTest)\n",
    "print(accuracy_score(yTest, y_pred_final))\n",
    "\n",
    "# Accuracy improved by almost 1%."
   ]
  },
  {
   "cell_type": "code",
   "execution_count": null,
   "id": "67f2408e",
   "metadata": {},
   "outputs": [],
   "source": [
    "print(classification_report(yTest, y_pred_final))\n",
    "\n",
    "# observed improvement in precision"
   ]
  },
  {
   "cell_type": "code",
   "execution_count": null,
   "id": "15b5f62d",
   "metadata": {},
   "outputs": [],
   "source": [
    "print(confusion_matrix(yTest, y_pred_final))\n",
    "\n",
    "# Found improvement in confusion matrix also after hyperparameter tuning."
   ]
  },
  {
   "cell_type": "code",
   "execution_count": null,
   "id": "a26a7845",
   "metadata": {},
   "outputs": [],
   "source": [
    "predictions_prob = lr_final.predict_proba(xTest)[:,1]\n",
    "fpr, tpr, _ = roc_curve(yTest, predictions_prob)\n",
    "auc(fpr, tpr)"
   ]
  },
  {
   "cell_type": "code",
   "execution_count": null,
   "id": "14a95b29",
   "metadata": {},
   "outputs": [],
   "source": []
  },
  {
   "cell_type": "markdown",
   "id": "d9751286",
   "metadata": {},
   "source": [
    "# Random Forest ML model implementation"
   ]
  },
  {
   "cell_type": "code",
   "execution_count": null,
   "id": "e3b2e77f",
   "metadata": {},
   "outputs": [],
   "source": [
    "# import the required library\n",
    "from sklearn.ensemble import RandomForestClassifier\n",
    "\n",
    "# instantitate and fit the model\n",
    "rfc = RandomForestClassifier(random_state = 10)\n",
    "rfc.fit(xTrain, yTrain)"
   ]
  },
  {
   "cell_type": "code",
   "execution_count": null,
   "id": "3ba4a54f",
   "metadata": {},
   "outputs": [],
   "source": [
    "# Predict the outcome\n",
    "rfc_pred = rfc.predict(xTest)"
   ]
  },
  {
   "cell_type": "code",
   "execution_count": null,
   "id": "9abaf238",
   "metadata": {},
   "outputs": [],
   "source": [
    "print(accuracy_score(yTest, rfc_pred))\n",
    "\n",
    "# observed improved accuracy in Random Forest model implementation"
   ]
  },
  {
   "cell_type": "code",
   "execution_count": null,
   "id": "d49fcb40",
   "metadata": {},
   "outputs": [],
   "source": [
    "print(classification_report(yTest, rfc_pred))"
   ]
  },
  {
   "cell_type": "code",
   "execution_count": null,
   "id": "0813f810",
   "metadata": {},
   "outputs": [],
   "source": [
    "print(confusion_matrix(yTest, rfc_pred))"
   ]
  },
  {
   "cell_type": "code",
   "execution_count": null,
   "id": "3aab546e",
   "metadata": {},
   "outputs": [],
   "source": [
    "# rfc.best_params_"
   ]
  },
  {
   "cell_type": "markdown",
   "id": "95bc43b7",
   "metadata": {},
   "source": [
    "# Trying Hyperparameter tuning for Random Forest model"
   ]
  },
  {
   "cell_type": "code",
   "execution_count": null,
   "id": "c807b1d2",
   "metadata": {},
   "outputs": [],
   "source": [
    "\n",
    "from sklearn.model_selection import GridSearchCV\n",
    "\n",
    "param_dict = {'bootstrap': [True, False],\n",
    "    'max_features':[0.2, 0.4, 0.7, 1.0],\n",
    "    'max_depth': [2, 3, 4, 5],\n",
    "    'max_samples':[0.5, 0.75, 1.0],\n",
    "    'n_estimators': [20, 40, 60, 100]}\n",
    "\n",
    "gsv = GridSearchCV(estimator = rfc, param_grid = param_dict, cv=5, verbose = 2, n_jobs = -1)\n"
   ]
  },
  {
   "cell_type": "code",
   "execution_count": null,
   "id": "a4677457",
   "metadata": {},
   "outputs": [],
   "source": [
    "gsv.fit(xTrain, yTrain)"
   ]
  },
  {
   "cell_type": "code",
   "execution_count": null,
   "id": "93758562",
   "metadata": {},
   "outputs": [],
   "source": [
    "gsv.best_params_"
   ]
  },
  {
   "cell_type": "code",
   "execution_count": null,
   "id": "2e055650",
   "metadata": {},
   "outputs": [],
   "source": [
    "rfc_final = RandomForestClassifier(bootstrap = False, max_depth = 5, max_features = 0.7, max_samples = 0.5, n_estimators = 60, random_state = 10)\n",
    "rfc_final.fit(xTrain, yTrain)"
   ]
  },
  {
   "cell_type": "code",
   "execution_count": null,
   "id": "a8f7514b",
   "metadata": {},
   "outputs": [],
   "source": [
    "rfc_final_pred = rfc_final.predict(xTest)"
   ]
  },
  {
   "cell_type": "code",
   "execution_count": null,
   "id": "a03cd793",
   "metadata": {},
   "outputs": [],
   "source": [
    "print(accuracy_score(yTest, rfc_final_pred))"
   ]
  },
  {
   "cell_type": "code",
   "execution_count": null,
   "id": "c48f4816",
   "metadata": {},
   "outputs": [],
   "source": [
    "print(classification_report(yTest, rfc_final_pred))"
   ]
  },
  {
   "cell_type": "code",
   "execution_count": null,
   "id": "1572898b",
   "metadata": {},
   "outputs": [],
   "source": [
    "print(confusion_matrix(yTest, rfc_final_pred))"
   ]
  },
  {
   "cell_type": "markdown",
   "id": "6e60d0f9",
   "metadata": {},
   "source": [
    "# Applying SVM model classifier "
   ]
  },
  {
   "cell_type": "code",
   "execution_count": null,
   "id": "14f5f6bd",
   "metadata": {},
   "outputs": [],
   "source": [
    "svc = SVC(random_state = 5)\n",
    "svc.fit(xTrain, yTrain)\n",
    "y_pred_svm = svc.predict(xTest)\n",
    "print('Accuracy Score : ', accuracy_score(yTest, y_pred_svm))"
   ]
  },
  {
   "cell_type": "code",
   "execution_count": null,
   "id": "c08c4fa4",
   "metadata": {},
   "outputs": [],
   "source": [
    "svc.gamma"
   ]
  },
  {
   "cell_type": "code",
   "execution_count": null,
   "id": "9b80c2cf",
   "metadata": {},
   "outputs": [],
   "source": [
    "svc.C"
   ]
  },
  {
   "cell_type": "code",
   "execution_count": null,
   "id": "4d01bea8",
   "metadata": {},
   "outputs": [],
   "source": [
    "svc.kernel"
   ]
  },
  {
   "cell_type": "code",
   "execution_count": null,
   "id": "9b817efa",
   "metadata": {},
   "outputs": [],
   "source": [
    "print(classification_report(yTest, y_pred_svm))"
   ]
  },
  {
   "cell_type": "code",
   "execution_count": null,
   "id": "05312ad3",
   "metadata": {},
   "outputs": [],
   "source": [
    "print(confusion_matrix(yTest, y_pred_svm))"
   ]
  },
  {
   "cell_type": "code",
   "execution_count": null,
   "id": "e6a8abdf",
   "metadata": {},
   "outputs": [],
   "source": []
  },
  {
   "cell_type": "code",
   "execution_count": null,
   "id": "5a0bdea7",
   "metadata": {},
   "outputs": [],
   "source": [
    "param_dict = {'C':[0.1, 1, 10, 100, 1000], \n",
    "             'gamma': [1, 0.1, 0.01, 0.001], \n",
    "             'kernel': ['linear', 'rbf', 'poly']}"
   ]
  },
  {
   "cell_type": "code",
   "execution_count": null,
   "id": "1d298a23",
   "metadata": {},
   "outputs": [],
   "source": [
    "model_svc = GridSearchCV(svc, param_grid = param_dict, cv = 5, scoring = 'accuracy', verbose = True, n_jobs = -1)"
   ]
  },
  {
   "cell_type": "code",
   "execution_count": null,
   "id": "1ca9c9c2",
   "metadata": {},
   "outputs": [],
   "source": [
    "# model_svc.fit(xTrain, yTrain)\n",
    "# print(model_svc.best_score_)"
   ]
  },
  {
   "cell_type": "code",
   "execution_count": null,
   "id": "59c696c9",
   "metadata": {},
   "outputs": [],
   "source": [
    "from sklearn.neighbors import KNeighborsClassifier\n",
    "from sklearn.model_selection import cross_val_score\n",
    "\n",
    "knn = KNeighborsClassifier(n_neighbors = 3)"
   ]
  },
  {
   "cell_type": "code",
   "execution_count": null,
   "id": "ce7f15d7",
   "metadata": {},
   "outputs": [],
   "source": [
    "knn.fit(xTrain, yTrain)\n",
    "\n",
    "y_pred_knn = knn.predict(xTest)"
   ]
  },
  {
   "cell_type": "code",
   "execution_count": null,
   "id": "56a586b6",
   "metadata": {},
   "outputs": [],
   "source": [
    "print('Accuracy Score : ', accuracy_score(yTest, y_pred_knn))\n",
    "print('\\n')\n",
    "print('Confusion Matrix with k = 3: \\n', confusion_matrix(yTest,y_pred_knn))\n",
    "print('\\n')\n",
    "print('Classification Report with k = 3 :\\n', classification_report(yTest,y_pred_knn))"
   ]
  },
  {
   "cell_type": "code",
   "execution_count": null,
   "id": "49d64b75",
   "metadata": {},
   "outputs": [],
   "source": [
    "accuracy_rate = []\n",
    "\n",
    "for i in range(1,40):\n",
    "    knn = KNeighborsClassifier(n_neighbors = i)\n",
    "    score = cross_val_score(knn, xTrain, yTrain, cv = 10)\n",
    "    accuracy_rate.append(score.mean())"
   ]
  },
  {
   "cell_type": "code",
   "execution_count": null,
   "id": "09e84da7",
   "metadata": {},
   "outputs": [],
   "source": [
    "plt.figure(figsize = (10,6))\n",
    "plt.plot(range(1,40), accuracy_rate, color = 'green', linestyle = 'dashed', marker = 'o', \n",
    "         markerfacecolor = 'red', markersize = 10)\n",
    "plt.title('Accuracy rate vs k value')\n",
    "plt.xlabel('k')\n",
    "plt.ylabel('Accuracy rate')"
   ]
  },
  {
   "cell_type": "code",
   "execution_count": null,
   "id": "17212c22",
   "metadata": {},
   "outputs": [],
   "source": [
    "# As per the accuracy rate plot found stabilised accuracy rate at k = 25\n",
    "knn = KNeighborsClassifier(n_neighbors=25)\n",
    "\n",
    "knn.fit(xTrain,yTrain)\n",
    "pred_25 = knn.predict(xTest)\n",
    "\n",
    "print('WITH K=25')\n",
    "print('Accuracy Score : ', accuracy_score(yTest, pred_25))\n",
    "print('\\n')\n",
    "print('Confusion Matrix with k = 21: \\n', confusion_matrix(yTest,pred_25))\n",
    "print('\\n')\n",
    "print('Classification Report with k = 21 :\\n', classification_report(yTest,pred_25))"
   ]
  },
  {
   "cell_type": "code",
   "execution_count": null,
   "id": "89fb0760",
   "metadata": {},
   "outputs": [],
   "source": [
    "# Better accuracy rate and precision observed with K = 3 only. Hence better parameters as per KNN model are\n",
    "\n",
    "Accuracy score = 0.878"
   ]
  },
  {
   "cell_type": "markdown",
   "id": "f52254d9",
   "metadata": {},
   "source": [
    "# FINAL SUMMARY"
   ]
  },
  {
   "cell_type": "markdown",
   "id": "97a4806e",
   "metadata": {},
   "source": [
    "1. Logistic Classification model - Accuracy - 0.868, Precision - 0.89, recall - 0.97, F1 - 0.93\n",
    "2. Logistic Classification with Hyper para. tuning - Accuracy - 0.875, Precision - 0.89, recall - 0.98, F1 - 0.93\n",
    "3. Random Forest Model - Accuracy - 0.906, Precision - 0.91, recall - 0.99, F1 - 0.95\n",
    "4. Random Forest with Hyper para. tuning -  Accuracy - 0.878, Precision - 0.90, recall - 0.96, F1 - 0.93\n",
    "5. SVC Classifier model - Accuracy - 0.881, Precision - 0.89, recall - 0.98, F1 - 0.93\n",
    "6. KNN Classifier model - Accuracy - 0.878, Precision - 0.92, recall - 0.95, F1 - 0.93\n",
    "\n",
    "CONCLUSION : OUT OF ABOVE ALL MODELS RANDOM FOREST CLASSIFIER MODEL IS GIVING BEST PARAMETERS WITH OUT HYPER PARAMETERS TUNING."
   ]
  }
 ],
 "metadata": {
  "kernelspec": {
   "display_name": "Python 3 (ipykernel)",
   "language": "python",
   "name": "python3"
  },
  "language_info": {
   "codemirror_mode": {
    "name": "ipython",
    "version": 3
   },
   "file_extension": ".py",
   "mimetype": "text/x-python",
   "name": "python",
   "nbconvert_exporter": "python",
   "pygments_lexer": "ipython3",
   "version": "3.11.4"
  }
 },
 "nbformat": 4,
 "nbformat_minor": 5
}
